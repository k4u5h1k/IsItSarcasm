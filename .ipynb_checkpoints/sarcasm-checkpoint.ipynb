{
 "cells": [
  {
   "cell_type": "code",
   "execution_count": 54,
   "metadata": {},
   "outputs": [],
   "source": [
    "import json\n",
    "import tensorflow as tf\n",
    "\n",
    "from tensorflow.keras.preprocessing.text import Tokenizer\n",
    "from tensorflow.keras.preprocessing.sequence import pad_sequences"
   ]
  },
  {
   "cell_type": "code",
   "execution_count": 84,
   "metadata": {},
   "outputs": [],
   "source": [
    "from nltk.tokenize import sent_tokenize, word_tokenize\n",
    "from nltk.stem import LancasterStemmer\n",
    "\n",
    "def stemSentence(sentence):\n",
    "    stemmer = LancasterStemmer()\n",
    "    token_words=word_tokenize(sentence)\n",
    "    token_words\n",
    "    stem_sentence=[]\n",
    "    for word in token_words:\n",
    "        stem_sentence.append(stemmer.stem(word))\n",
    "        stem_sentence.append(\" \")\n",
    "    return \"\".join(stem_sentence)"
   ]
  },
  {
   "cell_type": "code",
   "execution_count": 60,
   "metadata": {},
   "outputs": [],
   "source": [
    "import re\n",
    "def preprocessing(line):\n",
    "    line = re.sub(r'[^a-zA-z.?!]', ' ', line)\n",
    "    line = re.sub(r'[ ]+', ' ', line)\n",
    "    return line"
   ]
  },
  {
   "cell_type": "code",
   "execution_count": 57,
   "metadata": {},
   "outputs": [],
   "source": [
    "vocab_size = 10000\n",
    "embedding_dim = 16\n",
    "max_length = 200\n",
    "trunc_type='post'\n",
    "padding_type='post' \n",
    "oov_tok = \"<OOV>\"\n",
    "training_size = 100000\n",
    "total_size = 1000000"
   ]
  },
  {
   "cell_type": "code",
   "execution_count": 58,
   "metadata": {},
   "outputs": [
    {
     "data": {
      "text/html": [
       "<div>\n",
       "<style scoped>\n",
       "    .dataframe tbody tr th:only-of-type {\n",
       "        vertical-align: middle;\n",
       "    }\n",
       "\n",
       "    .dataframe tbody tr th {\n",
       "        vertical-align: top;\n",
       "    }\n",
       "\n",
       "    .dataframe thead th {\n",
       "        text-align: right;\n",
       "    }\n",
       "</style>\n",
       "<table border=\"1\" class=\"dataframe\">\n",
       "  <thead>\n",
       "    <tr style=\"text-align: right;\">\n",
       "      <th></th>\n",
       "      <th>comment</th>\n",
       "      <th>label</th>\n",
       "      <th>score</th>\n",
       "    </tr>\n",
       "  </thead>\n",
       "  <tbody>\n",
       "    <tr>\n",
       "      <th>143497</th>\n",
       "      <td>That's exactly what a country who made up a ho...</td>\n",
       "      <td>1</td>\n",
       "      <td>9070</td>\n",
       "    </tr>\n",
       "    <tr>\n",
       "      <th>157472</th>\n",
       "      <td>but it still snows</td>\n",
       "      <td>1</td>\n",
       "      <td>7563</td>\n",
       "    </tr>\n",
       "    <tr>\n",
       "      <th>110228</th>\n",
       "      <td>lol, you can't make this stuff up.</td>\n",
       "      <td>0</td>\n",
       "      <td>5818</td>\n",
       "    </tr>\n",
       "    <tr>\n",
       "      <th>53985</th>\n",
       "      <td>He didn't drink the compliance</td>\n",
       "      <td>0</td>\n",
       "      <td>5629</td>\n",
       "    </tr>\n",
       "    <tr>\n",
       "      <th>689739</th>\n",
       "      <td>In the Half Life series, the reason Gordon Fre...</td>\n",
       "      <td>0</td>\n",
       "      <td>5163</td>\n",
       "    </tr>\n",
       "  </tbody>\n",
       "</table>\n",
       "</div>"
      ],
      "text/plain": [
       "                                                  comment  label  score\n",
       "143497  That's exactly what a country who made up a ho...      1   9070\n",
       "157472                                 but it still snows      1   7563\n",
       "110228                 lol, you can't make this stuff up.      0   5818\n",
       "53985                      He didn't drink the compliance      0   5629\n",
       "689739  In the Half Life series, the reason Gordon Fre...      0   5163"
      ]
     },
     "execution_count": 58,
     "metadata": {},
     "output_type": "execute_result"
    }
   ],
   "source": [
    "# with open(\"./sarcasm.json\", 'r') as f:\n",
    "#     datastore = json.load(f)\n",
    "\n",
    "# sentences = []\n",
    "# labels = []\n",
    "\n",
    "# for item in datastore:\n",
    "#     sentences.append(item['headline'])\n",
    "#     labels.append(item['is_sarcastic'])\n",
    "#print(list(zip(sentences,labels)))\n",
    "\n",
    "import pandas as pd\n",
    "\n",
    "data = pd.read_csv('train-balanced-sarcasm.csv', usecols=['comment','label','score'], index_col=False)\n",
    "data = data.reindex(columns=['comment','label','score'])\n",
    "data.dropna(inplace=True)\n",
    "data = data.sort_values(by='score', ascending=False)\n",
    "sentences = data['comment']\n",
    "labels = data['label']\n",
    "data.head()"
   ]
  },
  {
   "cell_type": "code",
   "execution_count": 61,
   "metadata": {},
   "outputs": [
    {
     "data": {
      "text/plain": [
       "143497    that s exact what a country who mad up a hoax ...\n",
       "157472                                    but it stil snow \n",
       "110228                    lol you can t mak thi stuff up . \n",
       "53985                           he didn t drink the comply \n",
       "689739    in the half lif sery the reason gordon freem d...\n",
       "Name: comment, dtype: object"
      ]
     },
     "execution_count": 61,
     "metadata": {},
     "output_type": "execute_result"
    }
   ],
   "source": [
    "sentences = sentences[:training_size].apply(preprocessing)\n",
    "sentences = sentences[:training_size].apply(stemSentence)\n",
    "sentences.head()"
   ]
  },
  {
   "cell_type": "code",
   "execution_count": 63,
   "metadata": {},
   "outputs": [
    {
     "name": "stdout",
     "output_type": "stream",
     "text": [
      "(70000,) (70000,)\n",
      "(30000,) (30000,)\n"
     ]
    }
   ],
   "source": [
    "from sklearn.model_selection import train_test_split\n",
    "training_sentences, testing_sentences, training_labels, testing_labels = train_test_split(sentences, labels[:training_size], test_size = 0.3)\n",
    "print(training_sentences.shape, training_labels.shape)\n",
    "print(testing_sentences.shape, testing_labels.shape)"
   ]
  },
  {
   "cell_type": "code",
   "execution_count": 64,
   "metadata": {},
   "outputs": [],
   "source": [
    "tokenizer = Tokenizer(num_words=vocab_size, oov_token=oov_tok)\n",
    "tokenizer.fit_on_texts(training_sentences)\n",
    "\n",
    "word_index = tokenizer.word_index\n",
    "\n",
    "training_sequences = tokenizer.texts_to_sequences(training_sentences)\n",
    "training_padded = pad_sequences(training_sequences, maxlen=max_length, padding=padding_type, truncating=trunc_type)\n",
    "\n",
    "testing_sequences = tokenizer.texts_to_sequences(testing_sentences)\n",
    "testing_padded = pad_sequences(testing_sequences, maxlen=max_length, padding=padding_type, truncating=trunc_type)"
   ]
  },
  {
   "cell_type": "code",
   "execution_count": 65,
   "metadata": {},
   "outputs": [],
   "source": [
    "import pickle\n",
    "with open('tokenizer.pickle', 'wb') as handle:\n",
    "    pickle.dump(tokenizer, handle, protocol=4)"
   ]
  },
  {
   "cell_type": "code",
   "execution_count": 66,
   "metadata": {},
   "outputs": [],
   "source": [
    "model = tf.keras.Sequential([\n",
    "    tf.keras.layers.Embedding(vocab_size, embedding_dim, input_length=max_length),\n",
    "    tf.keras.layers.GlobalAveragePooling1D(),\n",
    "    tf.keras.layers.Dense(24, activation='relu'),\n",
    "    tf.keras.layers.Dense(1, activation='sigmoid')\n",
    "])\n",
    "model.compile(loss='binary_crossentropy',optimizer='adam',metrics=['accuracy'])"
   ]
  },
  {
   "cell_type": "code",
   "execution_count": 67,
   "metadata": {},
   "outputs": [
    {
     "name": "stdout",
     "output_type": "stream",
     "text": [
      "Model: \"sequential_3\"\n",
      "_________________________________________________________________\n",
      "Layer (type)                 Output Shape              Param #   \n",
      "=================================================================\n",
      "embedding_3 (Embedding)      (None, 200, 16)           160000    \n",
      "_________________________________________________________________\n",
      "global_average_pooling1d_3 ( (None, 16)                0         \n",
      "_________________________________________________________________\n",
      "dense_6 (Dense)              (None, 24)                408       \n",
      "_________________________________________________________________\n",
      "dense_7 (Dense)              (None, 1)                 25        \n",
      "=================================================================\n",
      "Total params: 160,433\n",
      "Trainable params: 160,433\n",
      "Non-trainable params: 0\n",
      "_________________________________________________________________\n"
     ]
    }
   ],
   "source": [
    "model.summary()"
   ]
  },
  {
   "cell_type": "code",
   "execution_count": 68,
   "metadata": {},
   "outputs": [
    {
     "name": "stdout",
     "output_type": "stream",
     "text": [
      "Epoch 1/20\n",
      "2188/2188 - 10s - loss: 0.6657 - accuracy: 0.5871 - val_loss: 0.6219 - val_accuracy: 0.6553\n",
      "Epoch 2/20\n",
      "2188/2188 - 10s - loss: 0.6016 - accuracy: 0.6778 - val_loss: 0.6081 - val_accuracy: 0.6665\n",
      "Epoch 3/20\n",
      "2188/2188 - 12s - loss: 0.5811 - accuracy: 0.6964 - val_loss: 0.5973 - val_accuracy: 0.6802\n",
      "Epoch 4/20\n",
      "2188/2188 - 10s - loss: 0.5700 - accuracy: 0.7063 - val_loss: 0.5977 - val_accuracy: 0.6807\n",
      "Epoch 5/20\n",
      "2188/2188 - 11s - loss: 0.5599 - accuracy: 0.7144 - val_loss: 0.6029 - val_accuracy: 0.6744\n",
      "Epoch 6/20\n",
      "2188/2188 - 11s - loss: 0.5532 - accuracy: 0.7189 - val_loss: 0.6060 - val_accuracy: 0.6765\n",
      "Epoch 7/20\n",
      "2188/2188 - 9s - loss: 0.5455 - accuracy: 0.7256 - val_loss: 0.6032 - val_accuracy: 0.6772\n",
      "Epoch 8/20\n",
      "2188/2188 - 8s - loss: 0.5386 - accuracy: 0.7289 - val_loss: 0.6043 - val_accuracy: 0.6793\n",
      "Epoch 9/20\n",
      "2188/2188 - 9s - loss: 0.5332 - accuracy: 0.7339 - val_loss: 0.6081 - val_accuracy: 0.6781\n",
      "Epoch 10/20\n",
      "2188/2188 - 10s - loss: 0.5266 - accuracy: 0.7401 - val_loss: 0.6031 - val_accuracy: 0.6805\n",
      "Epoch 11/20\n",
      "2188/2188 - 9s - loss: 0.5208 - accuracy: 0.7438 - val_loss: 0.6168 - val_accuracy: 0.6753\n",
      "Epoch 12/20\n",
      "2188/2188 - 9s - loss: 0.5165 - accuracy: 0.7457 - val_loss: 0.6149 - val_accuracy: 0.6780\n",
      "Epoch 13/20\n",
      "2188/2188 - 9s - loss: 0.5123 - accuracy: 0.7491 - val_loss: 0.6101 - val_accuracy: 0.6801\n",
      "Epoch 14/20\n",
      "2188/2188 - 11s - loss: 0.5065 - accuracy: 0.7522 - val_loss: 0.6131 - val_accuracy: 0.6809\n",
      "Epoch 15/20\n",
      "2188/2188 - 10s - loss: 0.5019 - accuracy: 0.7543 - val_loss: 0.6279 - val_accuracy: 0.6751\n",
      "Epoch 16/20\n",
      "2188/2188 - 11s - loss: 0.4965 - accuracy: 0.7577 - val_loss: 0.6217 - val_accuracy: 0.6810\n",
      "Epoch 17/20\n",
      "2188/2188 - 10s - loss: 0.4921 - accuracy: 0.7611 - val_loss: 0.6291 - val_accuracy: 0.6769\n",
      "Epoch 18/20\n",
      "2188/2188 - 8s - loss: 0.4875 - accuracy: 0.7638 - val_loss: 0.6295 - val_accuracy: 0.6808\n",
      "Epoch 19/20\n",
      "2188/2188 - 8s - loss: 0.4829 - accuracy: 0.7669 - val_loss: 0.6449 - val_accuracy: 0.6695\n",
      "Epoch 20/20\n",
      "2188/2188 - 8s - loss: 0.4795 - accuracy: 0.7678 - val_loss: 0.6496 - val_accuracy: 0.6710\n"
     ]
    }
   ],
   "source": [
    "history = model.fit(training_padded, training_labels, epochs=20, validation_data=(testing_padded, testing_labels), verbose=2)"
   ]
  },
  {
   "cell_type": "code",
   "execution_count": 69,
   "metadata": {},
   "outputs": [
    {
     "data": {
      "image/png": "[encoded data removed]",
      "text/plain": [
       "<Figure size 432x288 with 1 Axes>"
      ]
     },
     "metadata": {
      "needs_background": "light"
     },
     "output_type": "display_data"
    },
    {
     "data": {
      "image/png": "[encoded data removed]",
      "text/plain": [
       "<Figure size 432x288 with 1 Axes>"
      ]
     },
     "metadata": {
      "needs_background": "light"
     },
     "output_type": "display_data"
    }
   ],
   "source": [
    "import matplotlib.pyplot as plt\n",
    "\n",
    "\n",
    "def plot_graphs(history, string):\n",
    "  plt.plot(history.history[string])\n",
    "  plt.plot(history.history['val_'+string])\n",
    "  plt.xlabel(\"Epochs\")\n",
    "  plt.ylabel(string)\n",
    "  plt.legend([string, 'val_'+string])\n",
    "  plt.show()\n",
    "  \n",
    "plot_graphs(history, \"accuracy\")\n",
    "plot_graphs(history, \"loss\")"
   ]
  },
  {
   "cell_type": "code",
   "execution_count": 70,
   "metadata": {},
   "outputs": [
    {
     "name": "stdout",
     "output_type": "stream",
     "text": [
      "INFO:tensorflow:Assets written to: model/assets\n"
     ]
    }
   ],
   "source": [
    "model.save('model')"
   ]
  },
  {
   "cell_type": "code",
   "execution_count": 71,
   "metadata": {},
   "outputs": [
    {
     "data": {
      "text/plain": [
       "<tensorflow.python.keras.engine.sequential.Sequential at 0x155cc0670>"
      ]
     },
     "execution_count": 71,
     "metadata": {},
     "output_type": "execute_result"
    }
   ],
   "source": [
    "tf.keras.models.load_model('model')"
   ]
  },
  {
   "cell_type": "code",
   "execution_count": 85,
   "metadata": {},
   "outputs": [
    {
     "name": "stdout",
     "output_type": "stream",
     "text": [
      "sentence: omg hax\n",
      "Sarcasm\n"
     ]
    }
   ],
   "source": [
    "sentence = input(\"sentence: \")\n",
    "stemmed = stemSentence(sentence)\n",
    "sequences = tokenizer.texts_to_sequences([stemmed])\n",
    "padded = pad_sequences(sequences, maxlen=max_length, padding=padding_type, truncating=trunc_type)\n",
    "print('Sarcasm' if model.predict(padded)[0][0]>0.5 else 'Not Sarcasm')"
   ]
  }
 ],
 "metadata": {
  "kernelspec": {
   "display_name": "Python 3",
   "language": "python",
   "name": "python3"
  },
  "language_info": {
   "codemirror_mode": {
    "name": "ipython",
    "version": 3
   },
   "file_extension": ".py",
   "mimetype": "text/x-python",
   "name": "python",
   "nbconvert_exporter": "python",
   "pygments_lexer": "ipython3",
   "version": "3.8.8"
  }
 },
 "nbformat": 4,
 "nbformat_minor": 4
}

{
 "cells": [
  {
   "cell_type": "code",
   "execution_count": 1,
   "metadata": {},
   "outputs": [],
   "source": [
    "import json\n",
    "import tensorflow as tf\n",
    "\n",
    "from tensorflow.keras.preprocessing.text import Tokenizer\n",
    "from tensorflow.keras.preprocessing.sequence import pad_sequences"
   ]
  },
  {
   "cell_type": "code",
   "execution_count": 2,
   "metadata": {},
   "outputs": [],
   "source": [
    "vocab_size = 10000\n",
    "embedding_dim = 16\n",
    "max_length = 200\n",
    "trunc_type='post'\n",
    "padding_type='post' \n",
    "oov_tok = \"<OOV>\"\n",
    "training_size = 700000\n",
    "total_size = 1000000"
   ]
  },
  {
   "cell_type": "code",
   "execution_count": 3,
   "metadata": {},
   "outputs": [
    {
     "data": {
      "text/html": [
       "<div>\n",
       "<style scoped>\n",
       "    .dataframe tbody tr th:only-of-type {\n",
       "        vertical-align: middle;\n",
       "    }\n",
       "\n",
       "    .dataframe tbody tr th {\n",
       "        vertical-align: top;\n",
       "    }\n",
       "\n",
       "    .dataframe thead th {\n",
       "        text-align: right;\n",
       "    }\n",
       "</style>\n",
       "<table border=\"1\" class=\"dataframe\">\n",
       "  <thead>\n",
       "    <tr style=\"text-align: right;\">\n",
       "      <th></th>\n",
       "      <th>comment</th>\n",
       "      <th>label</th>\n",
       "      <th>score</th>\n",
       "    </tr>\n",
       "  </thead>\n",
       "  <tbody>\n",
       "    <tr>\n",
       "      <th>143497</th>\n",
       "      <td>That's exactly what a country who made up a ho...</td>\n",
       "      <td>1</td>\n",
       "      <td>9070</td>\n",
       "    </tr>\n",
       "    <tr>\n",
       "      <th>157472</th>\n",
       "      <td>but it still snows</td>\n",
       "      <td>1</td>\n",
       "      <td>7563</td>\n",
       "    </tr>\n",
       "    <tr>\n",
       "      <th>110228</th>\n",
       "      <td>lol, you can't make this stuff up.</td>\n",
       "      <td>0</td>\n",
       "      <td>5818</td>\n",
       "    </tr>\n",
       "    <tr>\n",
       "      <th>53985</th>\n",
       "      <td>He didn't drink the compliance</td>\n",
       "      <td>0</td>\n",
       "      <td>5629</td>\n",
       "    </tr>\n",
       "    <tr>\n",
       "      <th>689739</th>\n",
       "      <td>In the Half Life series, the reason Gordon Fre...</td>\n",
       "      <td>0</td>\n",
       "      <td>5163</td>\n",
       "    </tr>\n",
       "  </tbody>\n",
       "</table>\n",
       "</div>"
      ],
      "text/plain": [
       "                                                  comment  label  score\n",
       "143497  That's exactly what a country who made up a ho...      1   9070\n",
       "157472                                 but it still snows      1   7563\n",
       "110228                 lol, you can't make this stuff up.      0   5818\n",
       "53985                      He didn't drink the compliance      0   5629\n",
       "689739  In the Half Life series, the reason Gordon Fre...      0   5163"
      ]
     },
     "execution_count": 3,
     "metadata": {},
     "output_type": "execute_result"
    }
   ],
   "source": [
    "# with open(\"./sarcasm.json\", 'r') as f:\n",
    "#     datastore = json.load(f)\n",
    "\n",
    "# sentences = []\n",
    "# labels = []\n",
    "\n",
    "# for item in datastore:\n",
    "#     sentences.append(item['headline'])\n",
    "#     labels.append(item['is_sarcastic'])\n",
    "#print(list(zip(sentences,labels)))\n",
    "\n",
    "import pandas as pd\n",
    "\n",
    "data = pd.read_csv('train-balanced-sarcasm.csv', usecols=['comment','label','score'], index_col=False)\n",
    "data = data.reindex(columns=['comment','label','score'])\n",
    "data.dropna(inplace=True)\n",
    "data = data.sort_values(by='score', ascending=False)\n",
    "sentences = data['comment']\n",
    "labels = data['label']\n",
    "data.head()"
   ]
  },
  {
   "cell_type": "code",
   "execution_count": 8,
   "metadata": {},
   "outputs": [],
   "source": [
    "training_sentences = sentences.tolist()[:training_size]\n",
    "testing_sentences = sentences.tolist()[training_size:]\n",
    "training_labels = labels[0:training_size]\n",
    "testing_labels = labels[training_size:]"
   ]
  },
  {
   "cell_type": "code",
   "execution_count": 155,
   "metadata": {},
   "outputs": [],
   "source": [
    "tokenizer = Tokenizer(num_words=vocab_size, oov_token=oov_tok)\n",
    "tokenizer.fit_on_texts(training_sentences)\n",
    "\n",
    "word_index = tokenizer.word_index\n",
    "\n",
    "training_sequences = tokenizer.texts_to_sequences(training_sentences)\n",
    "training_padded = pad_sequences(training_sequences, maxlen=max_length, padding=padding_type, truncating=trunc_type)\n",
    "\n",
    "testing_sequences = tokenizer.texts_to_sequences(testing_sentences)\n",
    "testing_padded = pad_sequences(testing_sequences, maxlen=max_length, padding=padding_type, truncating=trunc_type)"
   ]
  },
  {
   "cell_type": "code",
   "execution_count": 180,
   "metadata": {},
   "outputs": [],
   "source": [
    "import pickle\n",
    "with open('tokenizer.pickle', 'wb') as handle:\n",
    "    pickle.dump(tokenizer, handle, protocol=4)"
   ]
  },
  {
   "cell_type": "code",
   "execution_count": 156,
   "metadata": {},
   "outputs": [],
   "source": [
    "model = tf.keras.Sequential([\n",
    "    tf.keras.layers.Embedding(vocab_size, embedding_dim, input_length=max_length),\n",
    "    tf.keras.layers.GlobalAveragePooling1D(),\n",
    "    tf.keras.layers.Dense(24, activation='relu'),\n",
    "    tf.keras.layers.Dense(1, activation='sigmoid')\n",
    "])\n",
    "model.compile(loss='binary_crossentropy',optimizer='adam',metrics=['accuracy'])"
   ]
  },
  {
   "cell_type": "code",
   "execution_count": 157,
   "metadata": {},
   "outputs": [
    {
     "name": "stdout",
     "output_type": "stream",
     "text": [
      "Model: \"sequential_1\"\n",
      "_________________________________________________________________\n",
      "Layer (type)                 Output Shape              Param #   \n",
      "=================================================================\n",
      "embedding_1 (Embedding)      (None, 200, 16)           160000    \n",
      "_________________________________________________________________\n",
      "global_average_pooling1d_1 ( (None, 16)                0         \n",
      "_________________________________________________________________\n",
      "dense_2 (Dense)              (None, 24)                408       \n",
      "_________________________________________________________________\n",
      "dense_3 (Dense)              (None, 1)                 25        \n",
      "=================================================================\n",
      "Total params: 160,433\n",
      "Trainable params: 160,433\n",
      "Non-trainable params: 0\n",
      "_________________________________________________________________\n"
     ]
    }
   ],
   "source": [
    "model.summary()"
   ]
  },
  {
   "cell_type": "code",
   "execution_count": 158,
   "metadata": {},
   "outputs": [
    {
     "name": "stdout",
     "output_type": "stream",
     "text": [
      "Epoch 1/15\n",
      "21875/21875 - 88s - loss: 0.6010 - accuracy: 0.6723 - val_loss: 0.5877 - val_accuracy: 0.6828\n",
      "Epoch 2/15\n",
      "21875/21875 - 93s - loss: 0.5706 - accuracy: 0.7038 - val_loss: 0.6003 - val_accuracy: 0.6793\n",
      "Epoch 3/15\n",
      "21875/21875 - 88s - loss: 0.5625 - accuracy: 0.7106 - val_loss: 0.5778 - val_accuracy: 0.6958\n",
      "Epoch 4/15\n",
      "21875/21875 - 84s - loss: 0.5568 - accuracy: 0.7141 - val_loss: 0.5740 - val_accuracy: 0.6974\n",
      "Epoch 5/15\n",
      "21875/21875 - 88s - loss: 0.5526 - accuracy: 0.7172 - val_loss: 0.5819 - val_accuracy: 0.6916\n",
      "Epoch 6/15\n",
      "21875/21875 - 83s - loss: 0.5492 - accuracy: 0.7193 - val_loss: 0.5743 - val_accuracy: 0.6971\n",
      "Epoch 7/15\n",
      "21875/21875 - 84s - loss: 0.5467 - accuracy: 0.7214 - val_loss: 0.5812 - val_accuracy: 0.6917\n",
      "Epoch 8/15\n",
      "21875/21875 - 84s - loss: 0.5444 - accuracy: 0.7228 - val_loss: 0.5751 - val_accuracy: 0.6974\n",
      "Epoch 9/15\n",
      "21875/21875 - 91s - loss: 0.5421 - accuracy: 0.7248 - val_loss: 0.5740 - val_accuracy: 0.6990\n",
      "Epoch 10/15\n",
      "21875/21875 - 85s - loss: 0.5400 - accuracy: 0.7259 - val_loss: 0.5715 - val_accuracy: 0.6999\n",
      "Epoch 11/15\n",
      "21875/21875 - 85s - loss: 0.5381 - accuracy: 0.7274 - val_loss: 0.5774 - val_accuracy: 0.6965\n",
      "Epoch 12/15\n",
      "21875/21875 - 83s - loss: 0.5363 - accuracy: 0.7289 - val_loss: 0.5832 - val_accuracy: 0.6936\n",
      "Epoch 13/15\n",
      "21875/21875 - 85s - loss: 0.5342 - accuracy: 0.7303 - val_loss: 0.5792 - val_accuracy: 0.6944\n",
      "Epoch 14/15\n",
      "21875/21875 - 79s - loss: 0.5322 - accuracy: 0.7317 - val_loss: 0.5737 - val_accuracy: 0.6996\n",
      "Epoch 15/15\n",
      "21875/21875 - 74s - loss: 0.5299 - accuracy: 0.7331 - val_loss: 0.5767 - val_accuracy: 0.6978\n"
     ]
    }
   ],
   "source": [
    "history = model.fit(training_padded, training_labels, epochs=15, validation_data=(testing_padded, testing_labels), verbose=2)"
   ]
  },
  {
   "cell_type": "code",
   "execution_count": 159,
   "metadata": {},
   "outputs": [
    {
     "data": {
      "image/png": "[encoded data removed]",
      "text/plain": [
       "<Figure size 432x288 with 1 Axes>"
      ]
     },
     "metadata": {
      "needs_background": "light"
     },
     "output_type": "display_data"
    },
    {
     "data": {
      "image/png": "[encoded data removed]",
      "text/plain": [
       "<Figure size 432x288 with 1 Axes>"
      ]
     },
     "metadata": {
      "needs_background": "light"
     },
     "output_type": "display_data"
    }
   ],
   "source": [
    "import matplotlib.pyplot as plt\n",
    "\n",
    "\n",
    "def plot_graphs(history, string):\n",
    "  plt.plot(history.history[string])\n",
    "  plt.plot(history.history['val_'+string])\n",
    "  plt.xlabel(\"Epochs\")\n",
    "  plt.ylabel(string)\n",
    "  plt.legend([string, 'val_'+string])\n",
    "  plt.show()\n",
    "  \n",
    "plot_graphs(history, \"accuracy\")\n",
    "plot_graphs(history, \"loss\")"
   ]
  },
  {
   "cell_type": "code",
   "execution_count": 175,
   "metadata": {},
   "outputs": [
    {
     "name": "stdout",
     "output_type": "stream",
     "text": [
      "WARNING:tensorflow:From /usr/local/lib/python3.8/site-packages/tensorflow/python/ops/resource_variable_ops.py:1813: calling BaseResourceVariable.__init__ (from tensorflow.python.ops.resource_variable_ops) with constraint is deprecated and will be removed in a future version.\n",
      "Instructions for updating:\n",
      "If using Keras pass *_constraint arguments to layers.\n",
      "INFO:tensorflow:Assets written to: model/assets\n"
     ]
    }
   ],
   "source": [
    "model.save('model')"
   ]
  },
  {
   "cell_type": "code",
   "execution_count": 176,
   "metadata": {},
   "outputs": [
    {
     "data": {
      "text/plain": [
       "<tensorflow.python.keras.engine.sequential.Sequential at 0x185ebb610>"
      ]
     },
     "execution_count": 176,
     "metadata": {},
     "output_type": "execute_result"
    }
   ],
   "source": [
    "tf.keras.models.load_model('model')"
   ]
  },
  {
   "cell_type": "code",
   "execution_count": 177,
   "metadata": {},
   "outputs": [
    {
     "name": "stdout",
     "output_type": "stream",
     "text": [
      "sentence: omg hax\n",
      "Sarcasm\n"
     ]
    }
   ],
   "source": [
    "sentence = input(\"sentence: \")\n",
    "sequences = tokenizer.texts_to_sequences([sentence])\n",
    "padded = pad_sequences(sequences, maxlen=max_length, padding=padding_type, truncating=trunc_type)\n",
    "print('Sarcasm' if model.predict(padded)[0][0]>0.5 else 'Not Sarcasm')"
   ]
  },
  {
   "cell_type": "code",
   "execution_count": null,
   "metadata": {},
   "outputs": [],
   "source": []
  }
 ],
 "metadata": {
  "kernelspec": {
   "display_name": "Python 3",
   "language": "python",
   "name": "python3"
  },
  "language_info": {
   "codemirror_mode": {
    "name": "ipython",
    "version": 3
   },
   "file_extension": ".py",
   "mimetype": "text/x-python",
   "name": "python",
   "nbconvert_exporter": "python",
   "pygments_lexer": "ipython3",
   "version": "3.8.8"
  }
 },
 "nbformat": 4,
 "nbformat_minor": 4
}
